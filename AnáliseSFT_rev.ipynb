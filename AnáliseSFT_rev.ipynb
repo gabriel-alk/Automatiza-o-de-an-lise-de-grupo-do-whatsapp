{
  "nbformat": 4,
  "nbformat_minor": 0,
  "metadata": {
    "colab": {
      "provenance": [],
      "mount_file_id": "1vgjPS70O3Sn125TLJ9TUEW8nGEmzMpze",
      "authorship_tag": "ABX9TyP/tnNHb2VLr2LTylFUMGa7",
      "include_colab_link": true
    },
    "kernelspec": {
      "name": "python3",
      "display_name": "Python 3"
    },
    "language_info": {
      "name": "python"
    }
  },
  "cells": [
    {
      "cell_type": "markdown",
      "metadata": {
        "id": "view-in-github",
        "colab_type": "text"
      },
      "source": [
        "<a href=\"https://colab.research.google.com/github/gabriel-alk/Automatizacao-de-analise-de-mensagens-de-um-grupo-do-whatsapp/blob/main/An%C3%A1liseSFT_rev.ipynb\" target=\"_parent\"><img src=\"https://colab.research.google.com/assets/colab-badge.svg\" alt=\"Open In Colab\"/></a>"
      ]
    },
    {
      "cell_type": "markdown",
      "source": [
        "##Introdução\n",
        "\n",
        "O código foi desenvolvido em Python com o objetivo de automatizar o processo de contagem dos dias treinados por cada membro de um grupo do whatsapp, a partir da análise do arquivo .txt gerado pelo aplicativo ao exportar uma conversa. Para mais detalhes sobre o grupo leia o arquivo README.md: https://github.com/gabriel-alk/Automatizacao-de-analise-de-mensagens-de-um-grupo-do-whatsapp/blob/main/README.md\n",
        "\n",
        "Primeiramente o código faz a leitura do arquivo de texto gerado pela exportação da conversa do WhatsApp. O usuário então deve inserir o mês que deseja fazer a verificação da pontuação.\n",
        "\n",
        "A identificação do envio das fotos foi feita por meio da procura por mensagens contendo a cadeia de texto <Arquivo de mídia oculto>, gerada no arquivo txt quando se exportam conversas sem incluir arquivos de mídia. \n",
        "\n",
        "Após a identificação das mensagens com a cadeia de texto, o código faz a extração da data da mensagem e contagem de quantas mensagens foram enviadas por cada membro em no mês selecionado. \n",
        "\n",
        "Para realizar a análise, o código cria um dicionário com o nome de cada membro do grupo e, a cada mensagem contendo a cadeia de texto de identificação de arquivo de mídia encontrada, adiciona +1 na contagem da pontuação para o respectivo membro. Ao final do processo, o código ordena o dicionário de acordo com a pontuação de cada membro, mostrando o ranking final com a quantidade de mensagens enviadas por cada um, na forma de \"X° lugar: Nome do usuário Y pontos\".\n",
        "\n",
        "Em caso do envio de mensagens não válidas para a pontuação, o usuário deve enviar logo em seguida uma mensagem contendo a cadeia de texto \"invalidar\", que é interpretada pelo código e não computa na pontuação do usuário.\n",
        "\n",
        "O código também exporta o resultado da análise em um arquivo .xlsx que é disponibilizado para os usuários checarem os dias em que pontuaram. \n"
      ],
      "metadata": {
        "id": "Q45KFrZFq2iE"
      }
    },
    {
      "cell_type": "code",
      "source": [
        "import pandas as pd\n",
        "\n",
        "url = '/content/drive/MyDrive/SFT_teste3.txt' #link para acesso ao arquivo txt.\n",
        "\n",
        "print('Insira qual o mês da medição no formato mm/aaaa: ') #O usuário deve inserir o mês que deseja verificar\n",
        "periodo_medicao = input()"
      ],
      "metadata": {
        "colab": {
          "base_uri": "https://localhost:8080/"
        },
        "id": "BPQ3IRUUqg-d",
        "outputId": "31bb8aef-e283-48d2-9fe1-3d0c864dc4c4"
      },
      "execution_count": 1,
      "outputs": [
        {
          "name": "stdout",
          "output_type": "stream",
          "text": [
            "Insira qual o mês da medição no formato mm/aaaa: \n",
            "12/2021\n"
          ]
        }
      ]
    },
    {
      "cell_type": "code",
      "execution_count": 2,
      "metadata": {
        "id": "rihGC8PCqZ7s"
      },
      "outputs": [],
      "source": [
        "# Inicializa o dicionário para armazenar a contagem de cada usuário\n",
        "contagem = {}\n",
        "\n",
        "# Abre o arquivo em modo de leitura\n",
        "with open(url, \"r\") as arq: \n",
        "    \n",
        "    linhas = arq.readlines()  # Lê todas as linhas do arquivo    \n",
        "    target_string = \"<Arquivo de mídia oculto>\" # Define a cadeia de texto a ser contada\n",
        "    invalid_string = \"invalidar\" #cadeia de texto para invalidar a pontuação de uma foto não válida\n",
        "    last_user = \"\" #nome do ultimo usuario que enviou a mensagem\n",
        "    \n",
        "    for i, linha in enumerate(linhas):\n",
        "        \n",
        "        if linha[3:10]==periodo_medicao: #if para verificar apenas o mes selecionado\n",
        "          \n",
        "          if target_string in linha and not (i+1 < len(linhas) and invalid_string in linhas[i+1]): # Verifica se a linha contém a cadeia de texto de arquivo de midia e se a próxima linha não é para invalidar\n",
        "              \n",
        "              palavras = linha.split()  # Separa a linha (string) em uma lista de palavras\n",
        "              nome_usuario = linha.split(\" - \")[1].split(\":\")[0] #atribui parte da cadeia de texto a variavel do nome do usuario\n",
        "              data_ponto = linha.split(' ')[0] #atribui parte da cadeia de texto a variavel da data da pontuação\n",
        "\n",
        "              if nome_usuario in contagem: #verifica se o nome do usuario ja esta na lista\n",
        "                  if data_ponto in contagem[nome_usuario]: \n",
        "                      contagem[nome_usuario][data_ponto] += 1 #soma +1 na pontuação se ja estiver\n",
        "                  else:\n",
        "                      contagem[nome_usuario][data_ponto] = 1 #se não estiver salva como 1 a pontuação do usuário\n",
        "              else:\n",
        "                  contagem[nome_usuario] = {data_ponto: 1} \n"
      ]
    },
    {
      "cell_type": "code",
      "source": [
        "# Convertendo o dicionário de contagem para um dataframe do pandas\n",
        "df = pd.DataFrame.from_dict(contagem, orient='index')\n",
        "\n",
        "# Ordenando o dataframe pelo índice (datas)\n",
        "df = df.sort_index(axis=1)\n",
        "\n",
        "# Salvando o dataframe em um arquivo excel\n",
        "df.to_excel('resultado_contagem.xlsx')\n",
        "\n",
        "pontuacao = {} #dicionario para ordernar os participantes por ordem da maior para menor pontuação\n",
        "\n",
        "#calculando a soma de pontos para cada usuário\n",
        "for usuario, dias in contagem.items():\n",
        "    pontuacao[usuario] = sum(dias.values())\n",
        "\n",
        "# Ordenando o dicionário por valores\n",
        "ranking = sorted(pontuacao.items(), key=lambda x: x[1], reverse=True)\n",
        "\n",
        "# Imprimindo o ranking\n",
        "for i, (usuario, pontos) in enumerate(ranking, start=1):\n",
        "    print(f\"{i}° lugar: {usuario} {pontos} pontos\")"
      ],
      "metadata": {
        "colab": {
          "base_uri": "https://localhost:8080/"
        },
        "id": "XUyhBybxsrAX",
        "outputId": "d509dda0-6836-4908-a0bb-5cc28962bef4"
      },
      "execution_count": 4,
      "outputs": [
        {
          "output_type": "stream",
          "name": "stdout",
          "text": [
            "1° lugar: Gabriel Mendes 3 pontos\n",
            "2° lugar: Garibe 2 pontos\n",
            "3° lugar: Pedroca 2 pontos\n",
            "4° lugar: Landim 2 pontos\n",
            "5° lugar: Carol Drummond 2 pontos\n",
            "6° lugar: Bruno Hauck 1 pontos\n",
            "7° lugar: Victor Sávio 1 pontos\n",
            "8° lugar: Simonneti 1 pontos\n"
          ]
        }
      ]
    },
    {
      "cell_type": "code",
      "source": [],
      "metadata": {
        "id": "gDHb7vEVxaee"
      },
      "execution_count": null,
      "outputs": []
    }
  ]
}